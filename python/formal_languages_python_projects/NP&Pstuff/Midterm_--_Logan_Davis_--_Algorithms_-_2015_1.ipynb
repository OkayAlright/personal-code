{
 "cells": [
  {
   "cell_type": "code",
   "execution_count": 24,
   "metadata": {
    "collapsed": false
   },
   "outputs": [],
   "source": [
    "%matplotlib inline\n",
    "import matplotlib.pyplot as plt"
   ]
  },
  {
   "cell_type": "markdown",
   "metadata": {},
   "source": [
    "# <h1>Intro:</h1>"
   ]
  },
  {
   "cell_type": "markdown",
   "metadata": {},
   "source": [
    "So for my midterm, I shall be looking into Merge and Insertion sort. Both are very well understood, quite intuitive, but serve different purposes as to where they are implemented. \n",
    "\n",
    "Tech specs:\n",
    "    OS: Elementry/Debian\n",
    "    Language: Python 2.7\n",
    "    Package: iPython\n",
    "    Text Editor: Sublime 2\n",
    "    \n",
    "Anyway, onto the sorts.\n",
    "    "
   ]
  },
  {
   "cell_type": "markdown",
   "metadata": {},
   "source": [
    "# Merge Sort:"
   ]
  },
  {
   "cell_type": "markdown",
   "metadata": {},
   "source": [
    "Merge sort is a fast, more modern sort used on any size of collections. It relies on recursive calls which I will get further into in a minute. Here is the code."
   ]
  },
  {
   "cell_type": "code",
   "execution_count": 25,
   "metadata": {
    "collapsed": false
   },
   "outputs": [],
   "source": [
    "\"\"\"\n",
    "mergesort.py \n",
    "\n",
    "    Part of my Mid-term\n",
    "\n",
    "Logan Davis | Febuary 27th\n",
    "\"\"\"\n",
    "def mergesort(array):\n",
    "    \"\"\"\n",
    "    This function merge sorts an array.\n",
    "    Arguments (1):\n",
    "        array = the list you with to have sorted.\n",
    "    Returns (1):\n",
    "        it returns a sorted version of array.\n",
    "    ----------------------------------------------\n",
    "    EXAMPLE:\n",
    "    >>> array = [3,6,5,8,2,4556]\n",
    "    >>> mergesort(array)\n",
    "    [2,3,5,6,8,4556]\n",
    "    \"\"\"\n",
    "    #########################\n",
    "    # The current version is \n",
    "    # memory hungery. I will \n",
    "    # try to optimize it \n",
    "    # shortly. Needs more\n",
    "    # testing as well.\n",
    "    #########################\n",
    "    length = len(array)\n",
    "    index_right,index_left,max_right,max_left = 0,0,0,0\n",
    "    merged = False\n",
    "    sorted_list = []\n",
    "    if length <= 1:\n",
    "        return array\n",
    "    else:\n",
    "        midpoint = length/2\n",
    "        rightside = mergesort(array[midpoint:])\n",
    "        leftside = mergesort(array[:midpoint])\n",
    "        max_left = (len(leftside))\n",
    "        max_right = (len(rightside))\n",
    "        while not merged:\n",
    "            if index_left != max_left and index_right != max_right:\n",
    "                if leftside[index_left] < rightside[index_right]:\n",
    "                    sorted_list.append((leftside[index_left]))\n",
    "                    index_left += 1\n",
    "                elif rightside[index_right] < leftside[index_left]:\n",
    "                    sorted_list.append((rightside[index_right]))\n",
    "                    index_right += 1\n",
    "                elif leftside[index_left] == rightside[index_right]:\n",
    "                    sorted_list.append(rightside[index_right])\n",
    "                    sorted_list.append(leftside[index_left])\n",
    "                    index_right += 1\n",
    "                    index_left += 1\n",
    "            elif index_left == max_left and index_right != max_right:\n",
    "                sorted_list.append(rightside[index_right])\n",
    "                index_right += 1\n",
    "            elif index_left != max_left and index_right == max_right:\n",
    "                sorted_list.append(leftside[index_left])\n",
    "                index_left += 1\n",
    "            else:\n",
    "                merged = True\n",
    "        return sorted_list"
   ]
  },
  {
   "cell_type": "markdown",
   "metadata": {},
   "source": [
    "<h5> The Basic Idea </h5>\n",
    "So the basic step process of a merge sort is as follows:\n",
    "    1.find middle of collection to sort.\n",
    "    2.cut the collection in two halves.\n",
    "    3.call merge sort on each half unless the halfs are just one item long (base case)\n",
    "    4.recombine the two halfs in order by looking at the first item in each half and choosing the smaller of the two\n",
    "    until both halves are empty.\n",
    "    \n",
    "This is a divide and conquer strategy of sorting. By breaking down the lists into many sorted parts (one item, already sorted), the act of recombining them in order is trivial. \n"
   ]
  },
  {
   "cell_type": "raw",
   "metadata": {},
   "source": [
    "\n",
    "Example:\n",
    "\n",
    "list = [5,4,7,3,5,2]\n",
    "mergesort(list)\n",
    "\n",
    "  [5,4,7]     [3,5,2]      <- first cut-in-half\n",
    " [5,4] [7]   [3,5] [2]     <- second cut\n",
    "[5] [4] [7] [3] [5] [2]    <- third cut, base case reached\n",
    "-------start merging-----------\n",
    " [4,5] [7]   [3,5] [2]     <-merge the deepest recursive call\n",
    "  [4,5,7]     [2,3,5]      <-merge up a level\n",
    "     [2,3,4,5,5,7]         <-merge one last time\n",
    "\n"
   ]
  },
  {
   "cell_type": "markdown",
   "metadata": {},
   "source": [
    "\n",
    "<h5> The Goods </h5>\n",
    "Merge is wonderful if you are not quite sure how large or small the collection is that you are sorting.  It growns at an O(n log n) rate which means it because quite good as n becomes very large. It is easy to represent and conceptualize, and it is very well understood.\n",
    "\n",
    "<h5> The Bads </h5>\n",
    "Merge sort is very memory hunger. The easist implementaions actually copy the list every time a recursive call is made (like I have writing above to display).  This means, if you want to keep performance, as n increases, you also need to increase the amount of memeory the system you are using has (which is quite often not very convenient).\n"
   ]
  },
  {
   "cell_type": "markdown",
   "metadata": {},
   "source": [
    "## Proof that it works:"
   ]
  },
  {
   "cell_type": "code",
   "execution_count": 26,
   "metadata": {
    "collapsed": false
   },
   "outputs": [
    {
     "name": "stdout",
     "output_type": "stream",
     "text": [
      "the randoms list is: \n",
      " [486, 101, 472, 990, 92, 892, 835, 119, 946, 249, 827, 35, 489, 354, 574, 864, 885, 805, 966, 593, 71, 63, 586, 256, 614, 654, 198, 488, 338, 42, 309, 726, 394, 937, 525, 876, 197, 825, 319, 803, 909, 229, 749, 847, 781, 410, 199, 47, 862, 715, 402, 600, 388, 548, 152, 735, 422, 111, 461, 673, 31, 275, 782, 90, 554, 933, 396, 379, 844, 471, 85, 810, 869, 530, 298, 28, 980, 516, 665, 926, 771, 760, 832, 317, 384, 818, 4, 559, 978, 171, 82, 611, 456, 320, 769, 685, 491, 768, 843, 953, 89, 811, 281, 598, 912, 274, 76, 145, 324, 792, 935, 105, 132, 518, 289, 483, 210, 705, 996, 364, 527, 707, 191, 424, 476, 871, 360, 863, 804, 282, 970, 270, 292, 887, 315, 514, 759, 15, 86, 108, 83, 767, 103, 934, 349, 791, 336, 716, 831, 335, 112, 366, 913, 626, 411, 608, 602, 109, 697, 496, 657, 813, 815, 563, 180, 878, 557, 958, 110, 230, 701, 570, 433, 128, 561, 32, 136, 670, 814, 75, 587, 581, 774, 688, 964, 50, 719, 734, 43, 904, 19, 62, 500, 430, 940, 995, 29, 879, 188, 775, 294, 535, 893, 519, 850, 227, 617, 772, 576, 515, 482, 732, 329, 259, 129, 906, 102, 175, 752, 68, 855, 434, 757, 416, 475, 397, 867, 261, 357, 393, 284, 161, 328, 54, 642, 833, 9, 975, 46, 618, 95, 979, 18, 652, 196, 840, 263, 703, 235, 441, 122, 568, 264, 371, 474, 429, 248, 916, 736, 567, 712, 176, 931, 927, 643, 808, 789, 467, 942, 497, 65, 254, 403, 986, 64, 214, 163, 246, 466, 23, 623, 216, 77, 625, 165, 218, 253, 150, 375, 622, 944, 236, 501, 337, 853, 939, 368, 3, 170, 974, 952, 510, 629, 821, 603, 116, 755, 61, 130, 721, 276, 702, 973, 634, 469, 0, 73, 431, 262, 225, 582, 244, 22, 503, 845, 957, 762, 458, 959, 675, 481, 313, 20, 583, 985, 38, 96, 399, 79, 365, 106, 413, 426, 532, 865, 462, 754, 669, 39, 695, 212, 420, 428, 965, 160, 868, 612, 490, 969, 390, 5, 941, 945, 157, 492, 330, 589, 505, 120, 303, 717, 308, 644, 255, 406, 915, 679, 277, 318, 88, 326, 59, 158, 507, 798, 345, 187, 449, 566, 287, 414, 592, 788, 544, 195, 56, 547, 10, 204, 741, 829, 376, 522, 169, 605, 296, 594, 870, 36, 651, 579, 418, 203, 325, 58, 551, 220, 750, 677, 332, 683, 297, 138, 659, 485, 93, 988, 252, 440, 209, 174, 67, 748, 778, 310, 666, 949, 223, 615, 355, 48, 884, 636, 616, 257, 463, 81, 34, 144, 502, 528, 139, 839, 327, 534, 696, 437, 921, 134, 823, 613, 529, 142, 30, 928, 361, 907, 269, 24, 224, 342, 700, 982, 856, 243, 74, 901, 151, 607, 299, 272, 504, 444, 866, 498, 380, 184, 378, 569, 448, 573, 948, 691, 779, 820, 891, 929, 897, 610, 146, 647, 312, 911, 408, 857, 999, 604, 620, 905, 452, 421, 268, 21, 667, 601, 72, 333, 890, 113, 682, 836, 722, 550, 478, 729, 565, 584, 520, 899, 784, 347, 689, 344, 950, 739, 706, 678, 714, 575, 972, 787, 751, 680, 438, 880, 694, 737, 153, 280, 795, 521, 846, 178, 295, 305, 577, 247, 609, 304, 764, 57, 753, 352, 334, 848, 285, 727, 730, 453, 1, 763, 283, 104, 245, 955, 383, 190, 809, 477, 468, 250, 984, 631, 233, 265, 976, 331, 181, 819, 889, 239, 450, 107, 977, 98, 920, 16, 53, 858, 585, 807, 395, 293, 131, 770, 363, 606, 470, 991, 231, 173, 882, 800, 645, 650, 649, 806, 159, 306, 746, 222, 447, 733, 668, 240, 599, 241, 258, 316, 542, 812, 451, 993, 987, 495, 99, 790, 27, 286, 883, 41, 405, 465, 822, 742, 348, 460, 353, 658, 343, 910, 595, 932, 459, 834, 339, 300, 531, 596, 538, 186, 70, 271, 291, 78, 340, 323, 674, 873, 796, 747, 183, 684, 25, 377, 473, 439, 211, 155, 854, 509, 172, 989, 189, 66, 773, 698, 961, 744, 279, 201, 786, 817, 484, 350, 121, 571, 307, 637, 902, 919, 508, 499, 816, 208, 797, 560, 506, 713, 127, 266, 842, 971, 875, 118, 369, 442, 914, 40, 114, 851, 849, 641, 97, 370, 824, 156, 710, 938, 91, 838, 765, 690, 493, 511, 556, 572, 288, 117, 709, 954, 699, 391, 44, 655, 494, 785, 412, 302, 956, 60, 358, 578, 930, 238, 419, 143, 766, 646, 45, 389, 756, 708, 273, 546, 194, 619, 133, 874, 162, 12, 962, 830, 896, 267, 640, 660, 776, 591, 555, 359, 154, 761, 385, 455, 745, 672, 202, 802, 251, 533, 409, 687, 994, 828, 457, 372, 888, 653, 232, 898, 2, 387, 922, 242, 301, 681, 943, 435, 720, 627, 539, 382, 228, 543, 367, 7, 967, 886, 918, 84, 894, 758, 147, 356, 278, 69, 185, 487, 917, 140, 517, 415, 166, 193, 859, 512, 141, 925, 135, 206, 676, 26, 445, 968, 260, 860, 526, 992, 80, 662, 671, 479, 148, 115, 346, 443, 37, 718, 11, 164, 192, 951, 632, 446, 981, 200, 14, 724, 217, 639, 13, 404, 693, 290, 386, 638, 149, 55, 314, 731, 407, 207, 895, 983, 648, 536, 725, 541, 562, 123, 392, 711, 801, 663, 872, 537, 398, 545, 523, 432, 219, 182, 794, 903, 780, 524, 205, 664, 17, 33, 963, 125, 900, 947, 8, 51, 826, 588, 630, 743, 454, 799, 513, 728, 6, 635, 783, 852, 740, 464, 100, 168, 322, 400, 924, 362, 49, 923, 998, 552, 237, 124, 94, 480, 656, 234, 137, 436, 374, 221, 837, 692, 417, 633, 686, 341, 553, 861, 908, 226, 126, 179, 936, 167, 425, 621, 52, 373, 321, 401, 381, 177, 723, 624, 661, 590, 564, 877, 215, 597, 213, 580, 423, 549, 777, 427, 793, 351, 558, 960, 841, 311, 738, 704, 628, 997, 87, 540, 881]\n",
      "sorted is: \n",
      " [0, 1, 2, 3, 4, 5, 6, 7, 8, 9, 10, 11, 12, 13, 14, 15, 16, 17, 18, 19, 20, 21, 22, 23, 24, 25, 26, 27, 28, 29, 30, 31, 32, 33, 34, 35, 36, 37, 38, 39, 40, 41, 42, 43, 44, 45, 46, 47, 48, 49, 50, 51, 52, 53, 54, 55, 56, 57, 58, 59, 60, 61, 62, 63, 64, 65, 66, 67, 68, 69, 70, 71, 72, 73, 74, 75, 76, 77, 78, 79, 80, 81, 82, 83, 84, 85, 86, 87, 88, 89, 90, 91, 92, 93, 94, 95, 96, 97, 98, 99, 100, 101, 102, 103, 104, 105, 106, 107, 108, 109, 110, 111, 112, 113, 114, 115, 116, 117, 118, 119, 120, 121, 122, 123, 124, 125, 126, 127, 128, 129, 130, 131, 132, 133, 134, 135, 136, 137, 138, 139, 140, 141, 142, 143, 144, 145, 146, 147, 148, 149, 150, 151, 152, 153, 154, 155, 156, 157, 158, 159, 160, 161, 162, 163, 164, 165, 166, 167, 168, 169, 170, 171, 172, 173, 174, 175, 176, 177, 178, 179, 180, 181, 182, 183, 184, 185, 186, 187, 188, 189, 190, 191, 192, 193, 194, 195, 196, 197, 198, 199, 200, 201, 202, 203, 204, 205, 206, 207, 208, 209, 210, 211, 212, 213, 214, 215, 216, 217, 218, 219, 220, 221, 222, 223, 224, 225, 226, 227, 228, 229, 230, 231, 232, 233, 234, 235, 236, 237, 238, 239, 240, 241, 242, 243, 244, 245, 246, 247, 248, 249, 250, 251, 252, 253, 254, 255, 256, 257, 258, 259, 260, 261, 262, 263, 264, 265, 266, 267, 268, 269, 270, 271, 272, 273, 274, 275, 276, 277, 278, 279, 280, 281, 282, 283, 284, 285, 286, 287, 288, 289, 290, 291, 292, 293, 294, 295, 296, 297, 298, 299, 300, 301, 302, 303, 304, 305, 306, 307, 308, 309, 310, 311, 312, 313, 314, 315, 316, 317, 318, 319, 320, 321, 322, 323, 324, 325, 326, 327, 328, 329, 330, 331, 332, 333, 334, 335, 336, 337, 338, 339, 340, 341, 342, 343, 344, 345, 346, 347, 348, 349, 350, 351, 352, 353, 354, 355, 356, 357, 358, 359, 360, 361, 362, 363, 364, 365, 366, 367, 368, 369, 370, 371, 372, 373, 374, 375, 376, 377, 378, 379, 380, 381, 382, 383, 384, 385, 386, 387, 388, 389, 390, 391, 392, 393, 394, 395, 396, 397, 398, 399, 400, 401, 402, 403, 404, 405, 406, 407, 408, 409, 410, 411, 412, 413, 414, 415, 416, 417, 418, 419, 420, 421, 422, 423, 424, 425, 426, 427, 428, 429, 430, 431, 432, 433, 434, 435, 436, 437, 438, 439, 440, 441, 442, 443, 444, 445, 446, 447, 448, 449, 450, 451, 452, 453, 454, 455, 456, 457, 458, 459, 460, 461, 462, 463, 464, 465, 466, 467, 468, 469, 470, 471, 472, 473, 474, 475, 476, 477, 478, 479, 480, 481, 482, 483, 484, 485, 486, 487, 488, 489, 490, 491, 492, 493, 494, 495, 496, 497, 498, 499, 500, 501, 502, 503, 504, 505, 506, 507, 508, 509, 510, 511, 512, 513, 514, 515, 516, 517, 518, 519, 520, 521, 522, 523, 524, 525, 526, 527, 528, 529, 530, 531, 532, 533, 534, 535, 536, 537, 538, 539, 540, 541, 542, 543, 544, 545, 546, 547, 548, 549, 550, 551, 552, 553, 554, 555, 556, 557, 558, 559, 560, 561, 562, 563, 564, 565, 566, 567, 568, 569, 570, 571, 572, 573, 574, 575, 576, 577, 578, 579, 580, 581, 582, 583, 584, 585, 586, 587, 588, 589, 590, 591, 592, 593, 594, 595, 596, 597, 598, 599, 600, 601, 602, 603, 604, 605, 606, 607, 608, 609, 610, 611, 612, 613, 614, 615, 616, 617, 618, 619, 620, 621, 622, 623, 624, 625, 626, 627, 628, 629, 630, 631, 632, 633, 634, 635, 636, 637, 638, 639, 640, 641, 642, 643, 644, 645, 646, 647, 648, 649, 650, 651, 652, 653, 654, 655, 656, 657, 658, 659, 660, 661, 662, 663, 664, 665, 666, 667, 668, 669, 670, 671, 672, 673, 674, 675, 676, 677, 678, 679, 680, 681, 682, 683, 684, 685, 686, 687, 688, 689, 690, 691, 692, 693, 694, 695, 696, 697, 698, 699, 700, 701, 702, 703, 704, 705, 706, 707, 708, 709, 710, 711, 712, 713, 714, 715, 716, 717, 718, 719, 720, 721, 722, 723, 724, 725, 726, 727, 728, 729, 730, 731, 732, 733, 734, 735, 736, 737, 738, 739, 740, 741, 742, 743, 744, 745, 746, 747, 748, 749, 750, 751, 752, 753, 754, 755, 756, 757, 758, 759, 760, 761, 762, 763, 764, 765, 766, 767, 768, 769, 770, 771, 772, 773, 774, 775, 776, 777, 778, 779, 780, 781, 782, 783, 784, 785, 786, 787, 788, 789, 790, 791, 792, 793, 794, 795, 796, 797, 798, 799, 800, 801, 802, 803, 804, 805, 806, 807, 808, 809, 810, 811, 812, 813, 814, 815, 816, 817, 818, 819, 820, 821, 822, 823, 824, 825, 826, 827, 828, 829, 830, 831, 832, 833, 834, 835, 836, 837, 838, 839, 840, 841, 842, 843, 844, 845, 846, 847, 848, 849, 850, 851, 852, 853, 854, 855, 856, 857, 858, 859, 860, 861, 862, 863, 864, 865, 866, 867, 868, 869, 870, 871, 872, 873, 874, 875, 876, 877, 878, 879, 880, 881, 882, 883, 884, 885, 886, 887, 888, 889, 890, 891, 892, 893, 894, 895, 896, 897, 898, 899, 900, 901, 902, 903, 904, 905, 906, 907, 908, 909, 910, 911, 912, 913, 914, 915, 916, 917, 918, 919, 920, 921, 922, 923, 924, 925, 926, 927, 928, 929, 930, 931, 932, 933, 934, 935, 936, 937, 938, 939, 940, 941, 942, 943, 944, 945, 946, 947, 948, 949, 950, 951, 952, 953, 954, 955, 956, 957, 958, 959, 960, 961, 962, 963, 964, 965, 966, 967, 968, 969, 970, 971, 972, 973, 974, 975, 976, 977, 978, 979, 980, 981, 982, 983, 984, 985, 986, 987, 988, 989, 990, 991, 992, 993, 994, 995, 996, 997, 998, 999]\n"
     ]
    }
   ],
   "source": [
    "\"\"\"\n",
    "A test of mergesort\n",
    "\"\"\"\n",
    "import random\n",
    "my_randoms = random.sample(xrange(1000), 1000)\n",
    "print \"the randoms list is: \\n {}\".format(my_randoms)\n",
    "print \"sorted is: \\n {}\".format(mergesort(my_randoms))\n",
    "\n"
   ]
  },
  {
   "cell_type": "markdown",
   "metadata": {},
   "source": [
    "## The Growth:"
   ]
  },
  {
   "cell_type": "code",
   "execution_count": 27,
   "metadata": {
    "collapsed": false
   },
   "outputs": [
    {
     "data": {
      "image/png": "[encoded data removed]",
      "text/plain": [
       "<matplotlib.figure.Figure at 0x7f462de94f90>"
      ]
     },
     "metadata": {},
     "output_type": "display_data"
    }
   ],
   "source": [
    "\n",
    "plt.plot([10,25,50,100,500,1000,10000,100000], [0.000,0.000,0.001,0.002,0.003,0.006,0.079,0.920], 'r')\n",
    "plt.xlabel('Items Sorted')\n",
    "plt.ylabel('Time Taken')\n",
    "plt.title('Merge Sort')\n",
    "plt.show()\n",
    "\n",
    "# Note the these times were aquired witht the cProfiler library"
   ]
  },
  {
   "cell_type": "markdown",
   "metadata": {},
   "source": [
    "Thought very hard to see, it you look at the time vs the items, you will see if is starting to show a growth slightly faster than n, suggesting n log n."
   ]
  },
  {
   "cell_type": "markdown",
   "metadata": {},
   "source": [
    "#    Insertion Sort:"
   ]
  },
  {
   "cell_type": "markdown",
   "metadata": {},
   "source": [
    "Insertion sort, thought typically slower than merge sort has some distinct and useful advantages. Here is the code:"
   ]
  },
  {
   "cell_type": "code",
   "execution_count": 28,
   "metadata": {
    "collapsed": false
   },
   "outputs": [],
   "source": [
    "\"\"\"\n",
    "insert_sort.py\n",
    "\n",
    "    Homework for midterms\n",
    "    \n",
    "Logan Davis | March 10th, 2015\n",
    "\"\"\"\n",
    "def insert_sort(array):\n",
    "    \"\"\"\n",
    "    A basic insertion sort. \n",
    "    Arguments (1):\n",
    "        array = the list you with to have sorted.\n",
    "    Returns (1):\n",
    "        it returns a sorted version of array.\n",
    "    ----------------------------------------------\n",
    "    EXAMPLE:\n",
    "    >>> array = [3,6,5,8,2,4556]\n",
    "    >>> insertionsort(array)\n",
    "    [2,3,5,6,8,4556]\n",
    "    \"\"\"\n",
    "    ####\n",
    "    # Some of this implementation was\n",
    "    # Inspired by this source:\n",
    "    # http://interactivepython.org/runestone/static/pythonds/SortSearch/TheInsertionSort.html\n",
    "    ####\n",
    "    for index in xrange(1,len(array)):\n",
    "        current_index = index\n",
    "        key = array [index]\n",
    "        while (key < array[current_index-1]) and current_index > 0:\n",
    "            array[current_index] = array[current_index-1]\n",
    "            current_index = current_index-1\n",
    "        array[current_index] = key\n",
    "    return array"
   ]
  },
  {
   "cell_type": "markdown",
   "metadata": {},
   "source": [
    "<h5> The Basic Idea </h5>\n",
    "Here is how the insertion sort works:\n",
    "    1. with the exception of the first item in the array, you compare each item in the array to the item in front of it\n",
    "    2. If the item you are comparing is smaller, swap places.\n",
    "    3. do this until the item in front of the one you are comparing is smaller then that which you have been comparing\n",
    "    \n",
    "Insertion is good because it is simple. It can be implemented in few lines, tends to have less bebugging, and is highly reusable in other algorithms. Some algorithms are based off Insertion sort, like Shell sort.\n"
   ]
  },
  {
   "cell_type": "raw",
   "metadata": {},
   "source": [
    "array = [2,5,4,6,7,3,1]\n",
    "insertionsort(array)\n",
    "\n",
    "[2,5,4,6,7,3] <- check 5 vs 2\n",
    "   ^\n",
    "[2,5,4,6,7,3] <- check 4 vs 5\n",
    "     ^\n",
    "[2,4,5,6,7,3] <- //swaps\n",
    "     ^\n",
    "[2,4,5,6,7,3] <- check 6 vs 5\n",
    "       ^\n",
    "[2,4,5,6,7,3] <- check 7 vs 6\n",
    "         ^\n",
    "[2,4,5,6,7,3] <- check 3 vs 7 //swaps\n",
    "           ^\n",
    "[2,4,5,6,3,7] <- check 3 vs 6 //swaps\n",
    "         ^\n",
    "[2,4,5,3,6,7] <- check 3 vs 5 //swaps\n",
    "       ^\n",
    "[2,4,3,5,6,7] <- check 3 vs 4 //swaps\n",
    "     ^\n",
    "[2,3,4,5,6,7] <- check 3 vs 2 // stops\n",
    "   ^"
   ]
  },
  {
   "cell_type": "markdown",
   "metadata": {},
   "source": [
    "\n",
    "<h5> The Goods </h5>\n",
    "Insertions is quite good on small collections or collections that are almost already sorted. It is very space effecient and quite quick to code. Using Insertin as a base, many other sorting algorithms can be constructed.\n",
    "\n",
    "<h5> The Bads </h5>\n",
    "This search is quite slow compared to Merge or Quick. is growth is O(n^2).\n"
   ]
  },
  {
   "cell_type": "markdown",
   "metadata": {},
   "source": [
    "## Proof that it works:"
   ]
  },
  {
   "cell_type": "code",
   "execution_count": 29,
   "metadata": {
    "collapsed": false
   },
   "outputs": [
    {
     "name": "stdout",
     "output_type": "stream",
     "text": [
      "the randoms list is: \n",
      " [469, 945, 439, 425, 73, 769, 54, 953, 385, 675, 651, 95, 995, 139, 558, 590, 919, 28, 811, 871, 4, 334, 686, 237, 3, 523, 57, 630, 47, 886, 247, 831, 446, 441, 455, 647, 881, 194, 619, 453, 958, 183, 966, 483, 366, 142, 200, 403, 922, 817, 173, 967, 627, 959, 592, 464, 553, 261, 567, 215, 901, 503, 460, 942, 837, 672, 815, 121, 416, 787, 298, 575, 41, 704, 69, 824, 287, 578, 271, 938, 687, 829, 282, 524, 694, 843, 767, 341, 94, 716, 762, 286, 907, 70, 496, 254, 625, 756, 118, 745, 502, 505, 743, 481, 309, 44, 803, 632, 266, 0, 412, 117, 862, 50, 228, 32, 856, 920, 82, 351, 354, 463, 124, 290, 708, 974, 155, 207, 165, 680, 535, 547, 97, 272, 949, 479, 319, 295, 328, 566, 7, 77, 609, 143, 587, 554, 347, 780, 527, 163, 394, 58, 29, 396, 317, 726, 816, 204, 60, 760, 184, 371, 494, 521, 955, 660, 768, 804, 5, 683, 599, 845, 302, 229, 179, 176, 572, 52, 581, 49, 268, 361, 383, 116, 212, 674, 757, 296, 358, 320, 852, 423, 147, 171, 222, 516, 937, 312, 329, 690, 741, 456, 504, 152, 638, 219, 294, 898, 820, 539, 310, 904, 980, 374, 519, 522, 363, 877, 737, 614, 597, 88, 875, 399, 318, 72, 283, 841, 16, 957, 926, 763, 538, 799, 65, 618, 217, 876, 960, 987, 840, 218, 830, 85, 177, 914, 711, 404, 670, 86, 114, 564, 861, 714, 549, 344, 910, 979, 510, 689, 313, 948, 26, 878, 419, 934, 289, 580, 552, 939, 781, 198, 778, 470, 157, 643, 36, 27, 679, 391, 568, 531, 125, 231, 707, 601, 983, 20, 178, 721, 135, 462, 692, 260, 755, 378, 440, 242, 924, 935, 823, 203, 270, 809, 752, 381, 582, 644, 912, 45, 603, 732, 622, 393, 112, 380, 410, 887, 851, 234, 534, 206, 605, 664, 588, 51, 314, 593, 517, 80, 971, 956, 602, 788, 697, 216, 968, 561, 128, 709, 276, 180, 506, 126, 370, 507, 132, 61, 607, 730, 239, 107, 775, 717, 748, 146, 791, 992, 930, 170, 915, 395, 71, 113, 255, 540, 190, 761, 947, 458, 617, 188, 153, 541, 411, 127, 635, 964, 642, 754, 196, 288, 559, 293, 120, 786, 932, 359, 348, 529, 994, 500, 12, 392, 624, 269, 102, 784, 331, 352, 244, 429, 407, 571, 21, 435, 280, 615, 227, 997, 954, 232, 723, 867, 888, 970, 873, 620, 99, 2, 626, 144, 515, 865, 372, 990, 490, 518, 10, 509, 909, 749, 497, 832, 495, 860, 279, 323, 498, 798, 621, 484, 991, 556, 839, 933, 350, 303, 388, 233, 84, 379, 859, 356, 718, 499, 724, 105, 324, 870, 842, 174, 448, 821, 377, 623, 472, 738, 482, 169, 321, 645, 159, 899, 739, 678, 536, 42, 864, 828, 353, 214, 727, 40, 693, 654, 103, 512, 9, 598, 702, 46, 911, 275, 461, 136, 426, 943, 158, 729, 433, 189, 785, 78, 701, 684, 584, 307, 946, 55, 894, 677, 562, 308, 795, 986, 81, 604, 511, 764, 999, 608, 591, 236, 662, 885, 705, 548, 368, 262, 277, 459, 783, 130, 884, 337, 699, 273, 474, 806, 457, 802, 154, 793, 814, 43, 452, 537, 629, 586, 858, 854, 715, 583, 790, 221, 406, 167, 422, 514, 882, 610, 34, 191, 917, 38, 695, 573, 15, 193, 606, 122, 63, 545, 39, 712, 192, 67, 17, 291, 467, 156, 807, 226, 265, 928, 264, 305, 700, 665, 168, 90, 466, 19, 473, 889, 634, 982, 251, 14, 428, 241, 611, 657, 981, 492, 454, 906, 774, 253, 187, 555, 636, 489, 224, 443, 56, 145, 766, 868, 703, 420, 304, 252, 284, 819, 574, 649, 596, 826, 501, 175, 972, 22, 801, 8, 409, 480, 648, 390, 250, 525, 386, 209, 300, 905, 389, 612, 476, 274, 257, 432, 848, 346, 134, 728, 742, 663, 382, 779, 668, 373, 246, 646, 652, 225, 655, 478, 918, 330, 486, 789, 532, 245, 770, 951, 398, 96, 367, 485, 805, 713, 776, 475, 13, 106, 731, 777, 641, 673, 941, 299, 285, 431, 891, 833, 345, 880, 468, 969, 430, 771, 161, 893, 844, 415, 722, 491, 208, 696, 31, 33, 846, 477, 322, 343, 976, 98, 765, 64, 985, 719, 240, 357, 129, 656, 316, 79, 908, 827, 101, 181, 164, 812, 836, 150, 413, 963, 83, 965, 872, 421, 115, 688, 25, 633, 996, 961, 551, 710, 874, 666, 962, 585, 528, 950, 896, 923, 471, 108, 682, 488, 160, 211, 975, 220, 297, 988, 278, 355, 925, 387, 199, 669, 698, 869, 376, 940, 936, 384, 437, 613, 639, 365, 35, 589, 326, 595, 569, 973, 74, 681, 258, 100, 513, 487, 62, 53, 281, 364, 205, 306, 166, 109, 944, 822, 847, 332, 91, 442, 66, 349, 30, 892, 740, 576, 978, 931, 243, 436, 1, 853, 733, 210, 808, 333, 182, 863, 362, 235, 800, 544, 526, 952, 444, 445, 685, 336, 111, 131, 11, 451, 746, 659, 834, 758, 267, 825, 123, 542, 929, 369, 402, 883, 427, 342, 418, 550, 315, 197, 563, 570, 661, 195, 835, 725, 897, 6, 753, 921, 750, 140, 616, 565, 794, 759, 256, 736, 89, 259, 879, 397, 223, 417, 866, 18, 772, 434, 900, 465, 890, 631, 238, 104, 855, 913, 637, 706, 600, 360, 186, 338, 93, 162, 984, 68, 650, 172, 424, 263, 792, 311, 579, 301, 577, 76, 747, 48, 782, 751, 810, 119, 546, 530, 676, 447, 248, 796, 508, 902, 818, 773, 797, 201, 813, 37, 450, 340, 916, 691, 557, 849, 438, 640, 335, 137, 838, 977, 24, 667, 671, 408, 989, 110, 23, 493, 148, 401, 927, 138, 92, 895, 520, 533, 149, 87, 720, 230, 141, 449, 202, 249, 560, 292, 414, 375, 594, 734, 850, 339, 133, 903, 543, 327, 658, 993, 744, 857, 75, 998, 400, 59, 405, 653, 185, 151, 735, 628, 325, 213]\n",
      "sorted is: \n",
      " [0, 1, 2, 3, 4, 5, 6, 7, 8, 9, 10, 11, 12, 13, 14, 15, 16, 17, 18, 19, 20, 21, 22, 23, 24, 25, 26, 27, 28, 29, 30, 31, 32, 33, 34, 35, 36, 37, 38, 39, 40, 41, 42, 43, 44, 45, 46, 47, 48, 49, 50, 51, 52, 53, 54, 55, 56, 57, 58, 59, 60, 61, 62, 63, 64, 65, 66, 67, 68, 69, 70, 71, 72, 73, 74, 75, 76, 77, 78, 79, 80, 81, 82, 83, 84, 85, 86, 87, 88, 89, 90, 91, 92, 93, 94, 95, 96, 97, 98, 99, 100, 101, 102, 103, 104, 105, 106, 107, 108, 109, 110, 111, 112, 113, 114, 115, 116, 117, 118, 119, 120, 121, 122, 123, 124, 125, 126, 127, 128, 129, 130, 131, 132, 133, 134, 135, 136, 137, 138, 139, 140, 141, 142, 143, 144, 145, 146, 147, 148, 149, 150, 151, 152, 153, 154, 155, 156, 157, 158, 159, 160, 161, 162, 163, 164, 165, 166, 167, 168, 169, 170, 171, 172, 173, 174, 175, 176, 177, 178, 179, 180, 181, 182, 183, 184, 185, 186, 187, 188, 189, 190, 191, 192, 193, 194, 195, 196, 197, 198, 199, 200, 201, 202, 203, 204, 205, 206, 207, 208, 209, 210, 211, 212, 213, 214, 215, 216, 217, 218, 219, 220, 221, 222, 223, 224, 225, 226, 227, 228, 229, 230, 231, 232, 233, 234, 235, 236, 237, 238, 239, 240, 241, 242, 243, 244, 245, 246, 247, 248, 249, 250, 251, 252, 253, 254, 255, 256, 257, 258, 259, 260, 261, 262, 263, 264, 265, 266, 267, 268, 269, 270, 271, 272, 273, 274, 275, 276, 277, 278, 279, 280, 281, 282, 283, 284, 285, 286, 287, 288, 289, 290, 291, 292, 293, 294, 295, 296, 297, 298, 299, 300, 301, 302, 303, 304, 305, 306, 307, 308, 309, 310, 311, 312, 313, 314, 315, 316, 317, 318, 319, 320, 321, 322, 323, 324, 325, 326, 327, 328, 329, 330, 331, 332, 333, 334, 335, 336, 337, 338, 339, 340, 341, 342, 343, 344, 345, 346, 347, 348, 349, 350, 351, 352, 353, 354, 355, 356, 357, 358, 359, 360, 361, 362, 363, 364, 365, 366, 367, 368, 369, 370, 371, 372, 373, 374, 375, 376, 377, 378, 379, 380, 381, 382, 383, 384, 385, 386, 387, 388, 389, 390, 391, 392, 393, 394, 395, 396, 397, 398, 399, 400, 401, 402, 403, 404, 405, 406, 407, 408, 409, 410, 411, 412, 413, 414, 415, 416, 417, 418, 419, 420, 421, 422, 423, 424, 425, 426, 427, 428, 429, 430, 431, 432, 433, 434, 435, 436, 437, 438, 439, 440, 441, 442, 443, 444, 445, 446, 447, 448, 449, 450, 451, 452, 453, 454, 455, 456, 457, 458, 459, 460, 461, 462, 463, 464, 465, 466, 467, 468, 469, 470, 471, 472, 473, 474, 475, 476, 477, 478, 479, 480, 481, 482, 483, 484, 485, 486, 487, 488, 489, 490, 491, 492, 493, 494, 495, 496, 497, 498, 499, 500, 501, 502, 503, 504, 505, 506, 507, 508, 509, 510, 511, 512, 513, 514, 515, 516, 517, 518, 519, 520, 521, 522, 523, 524, 525, 526, 527, 528, 529, 530, 531, 532, 533, 534, 535, 536, 537, 538, 539, 540, 541, 542, 543, 544, 545, 546, 547, 548, 549, 550, 551, 552, 553, 554, 555, 556, 557, 558, 559, 560, 561, 562, 563, 564, 565, 566, 567, 568, 569, 570, 571, 572, 573, 574, 575, 576, 577, 578, 579, 580, 581, 582, 583, 584, 585, 586, 587, 588, 589, 590, 591, 592, 593, 594, 595, 596, 597, 598, 599, 600, 601, 602, 603, 604, 605, 606, 607, 608, 609, 610, 611, 612, 613, 614, 615, 616, 617, 618, 619, 620, 621, 622, 623, 624, 625, 626, 627, 628, 629, 630, 631, 632, 633, 634, 635, 636, 637, 638, 639, 640, 641, 642, 643, 644, 645, 646, 647, 648, 649, 650, 651, 652, 653, 654, 655, 656, 657, 658, 659, 660, 661, 662, 663, 664, 665, 666, 667, 668, 669, 670, 671, 672, 673, 674, 675, 676, 677, 678, 679, 680, 681, 682, 683, 684, 685, 686, 687, 688, 689, 690, 691, 692, 693, 694, 695, 696, 697, 698, 699, 700, 701, 702, 703, 704, 705, 706, 707, 708, 709, 710, 711, 712, 713, 714, 715, 716, 717, 718, 719, 720, 721, 722, 723, 724, 725, 726, 727, 728, 729, 730, 731, 732, 733, 734, 735, 736, 737, 738, 739, 740, 741, 742, 743, 744, 745, 746, 747, 748, 749, 750, 751, 752, 753, 754, 755, 756, 757, 758, 759, 760, 761, 762, 763, 764, 765, 766, 767, 768, 769, 770, 771, 772, 773, 774, 775, 776, 777, 778, 779, 780, 781, 782, 783, 784, 785, 786, 787, 788, 789, 790, 791, 792, 793, 794, 795, 796, 797, 798, 799, 800, 801, 802, 803, 804, 805, 806, 807, 808, 809, 810, 811, 812, 813, 814, 815, 816, 817, 818, 819, 820, 821, 822, 823, 824, 825, 826, 827, 828, 829, 830, 831, 832, 833, 834, 835, 836, 837, 838, 839, 840, 841, 842, 843, 844, 845, 846, 847, 848, 849, 850, 851, 852, 853, 854, 855, 856, 857, 858, 859, 860, 861, 862, 863, 864, 865, 866, 867, 868, 869, 870, 871, 872, 873, 874, 875, 876, 877, 878, 879, 880, 881, 882, 883, 884, 885, 886, 887, 888, 889, 890, 891, 892, 893, 894, 895, 896, 897, 898, 899, 900, 901, 902, 903, 904, 905, 906, 907, 908, 909, 910, 911, 912, 913, 914, 915, 916, 917, 918, 919, 920, 921, 922, 923, 924, 925, 926, 927, 928, 929, 930, 931, 932, 933, 934, 935, 936, 937, 938, 939, 940, 941, 942, 943, 944, 945, 946, 947, 948, 949, 950, 951, 952, 953, 954, 955, 956, 957, 958, 959, 960, 961, 962, 963, 964, 965, 966, 967, 968, 969, 970, 971, 972, 973, 974, 975, 976, 977, 978, 979, 980, 981, 982, 983, 984, 985, 986, 987, 988, 989, 990, 991, 992, 993, 994, 995, 996, 997, 998, 999]\n"
     ]
    }
   ],
   "source": [
    "\"\"\"\n",
    "A test of insertion\n",
    "\"\"\"\n",
    "import random\n",
    "my_randoms = random.sample(xrange(1000), 1000)\n",
    "print \"the randoms list is: \\n {}\".format(my_randoms)\n",
    "print \"sorted is: \\n {}\".format(insert_sort(my_randoms))\n"
   ]
  },
  {
   "cell_type": "code",
   "execution_count": 30,
   "metadata": {
    "collapsed": false
   },
   "outputs": [
    {
     "data": {
      "image/png": "[encoded data removed]",
      "text/plain": [
       "<matplotlib.figure.Figure at 0x7f462de89750>"
      ]
     },
     "metadata": {},
     "output_type": "display_data"
    }
   ],
   "source": [
    "plt.plot([10,25,50,100,500,1000,10000,100000], [0.000,0.000,0.000,0.002,0.030,0.076,6.171,657.133], 'r')\n",
    "plt.xlabel('Items Sorted')\n",
    "plt.ylabel('Time Taken')\n",
    "plt.title('Insertion Sort')\n",
    "plt.show()\n",
    "\n",
    "# Note the these times were aquired witht the cProfiler library"
   ]
  },
  {
   "cell_type": "markdown",
   "metadata": {},
   "source": [
    "Yet again, it seems that my data points are not close enough to show the perfect curve of growth, but the only way to distribe the shirt in after 1000 items is exponential. \n",
    "\n",
    "The reason I stopped both tests at 100000 is due to insertion sort taking a so long to do it, I didn't imagine any further test would be needed."
   ]
  }
 ],
 "metadata": {
  "anaconda-cloud": {},
  "kernelspec": {
   "display_name": "Python [default]",
   "language": "python",
   "name": "python3"
  },
  "language_info": {
   "codemirror_mode": {
    "name": "ipython",
    "version": 3
   },
   "file_extension": ".py",
   "mimetype": "text/x-python",
   "name": "python",
   "nbconvert_exporter": "python",
   "pygments_lexer": "ipython3",
   "version": "3.5.2"
  }
 },
 "nbformat": 4,
 "nbformat_minor": 0
}
