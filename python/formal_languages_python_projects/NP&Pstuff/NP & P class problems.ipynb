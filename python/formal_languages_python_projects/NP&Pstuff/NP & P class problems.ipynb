{
 "cells": [
  {
   "cell_type": "code",
   "execution_count": 73,
   "metadata": {
    "collapsed": false
   },
   "outputs": [],
   "source": [
    "% matplotlib inline\n",
    "from numpy import *\n",
    "import matplotlib.pyplot as plt\n",
    "import numpy as np"
   ]
  },
  {
   "cell_type": "markdown",
   "metadata": {
    "nbpresent": {
     "id": "baa396ee-2e09-4b9e-9266-22bfb79a1113"
    }
   },
   "source": [
    "<h1> P, NP, and Polynomial Verifiers: </h1>\n",
    "<hr>\n",
    "\n",
    "For looking at classic P and NP problems, I chose the following:\n",
    "\n",
    "* NP: <a href=\"https://en.wikipedia.org/wiki/Subset_sum_problem\"> Subset sum </a>\n",
    "* P: <a href=\"https://en.wikipedia.org/wiki/Merge_sort\"> Merge sort </a>\n",
    "\n",
    "Sorting is a well studied problem with many efficient solutions. \n",
    "Merge sort represents a reliably fast, though memory hungry, solution \n",
    "to sort a collection. I had an implementation of Merge Sort sitting around\n",
    "from the last algorithms class, so I found that and ran some tests. Here is the source:\n",
    "\n"
   ]
  },
  {
   "cell_type": "code",
   "execution_count": 74,
   "metadata": {
    "collapsed": true,
    "nbpresent": {
     "id": "0a31fca8-f040-4e42-a4b7-2c23ce448ffb"
    }
   },
   "outputs": [],
   "source": [
    "\"\"\"\n",
    "mergesort.py \n",
    "Logan Davis\n",
    "\n",
    "    Part of my Mid-term\n",
    "\n",
    "2/27/15 | Python 2.7 | MIT License \n",
    "\"\"\"\n",
    "def mergesort(array):\n",
    "    \"\"\"\n",
    "    This function merge sorts an array.\n",
    "    Arguments (1):\n",
    "        array = the list you with to have sorted.\n",
    "    Returns (1):\n",
    "        it returns a sorted version of array.\n",
    "    ----------------------------------------------\n",
    "    EXAMPLE:\n",
    "    >>> array = [3,6,5,8,2,4556]\n",
    "    >>> mergesort(array)\n",
    "    [2,3,5,6,8,4556]\n",
    "    \"\"\"\n",
    "    length = len(array)\n",
    "    index_right,index_left,max_right,max_left = 0,0,0,0\n",
    "    merged = False\n",
    "    sorted_list = []\n",
    "    if length <= 1:\n",
    "        return array\n",
    "    else:\n",
    "        midpoint = length/2\n",
    "        rightside = mergesort(array[midpoint:])\n",
    "        leftside = mergesort(array[:midpoint])\n",
    "        max_left = (len(leftside))\n",
    "        max_right = (len(rightside))\n",
    "        while not merged:\n",
    "            if index_left != max_left and index_right != max_right:\n",
    "                if leftside[index_left] < rightside[index_right]:\n",
    "                    sorted_list.append((leftside[index_left]))\n",
    "                    index_left += 1\n",
    "                elif rightside[index_right] < leftside[index_left]:\n",
    "                    sorted_list.append((rightside[index_right]))\n",
    "                    index_right += 1\n",
    "                elif leftside[index_left] == rightside[index_right]:\n",
    "                    sorted_list.append(rightside[index_right])\n",
    "                    sorted_list.append(leftside[index_left])\n",
    "                    index_right += 1\n",
    "                    index_left += 1\n",
    "            elif index_left == max_left and index_right != max_right:\n",
    "                sorted_list.append(rightside[index_right])\n",
    "                index_right += 1\n",
    "            elif index_left != max_left and index_right == max_right:\n",
    "                sorted_list.append(leftside[index_left])\n",
    "                index_left += 1\n",
    "            else:\n",
    "                merged = True\n",
    "        return sorted_list"
   ]
  },
  {
   "cell_type": "markdown",
   "metadata": {
    "nbpresent": {
     "id": "5ee72619-6ce0-4a23-9405-21b579955aea"
    }
   },
   "source": [
    "This function was tested on collections ranging from 1 to 9999. For each length, the sort was run 5 times and an average was taken. The implemented tests source is as follows:"
   ]
  },
  {
   "cell_type": "code",
   "execution_count": 75,
   "metadata": {
    "collapsed": false,
    "nbpresent": {
     "id": "e49476f3-0cf8-4804-89d3-5f24f1983746"
    }
   },
   "outputs": [],
   "source": [
    "import time, random, mergesort\n",
    "\n",
    "def timeFunction(n,repeats):\n",
    "    results = []\n",
    "\n",
    "    f = open(\"resultsP.txt\",\"w\")\n",
    "\n",
    "    for i in range(n):\n",
    "        times = []\n",
    "        array = random.sample(range(1, 10000), i)\n",
    "        print(\"testing length {}.\".format(i))\n",
    "        for i in range(repeats):\n",
    "            startTime = time.time()\n",
    "            mergesort.mergesort(array)\n",
    "            times.append(time.time() - startTime)\n",
    "        average = sum(times)/repeats\n",
    "        results.append(str(average) + \"\\n\")\n",
    "        f.write(str(results[-1]))\n",
    "    f.close()\n",
    "\n",
    "#timeFunction(10000,5) #Uncomment to run"
   ]
  },
  {
   "cell_type": "code",
   "execution_count": 76,
   "metadata": {
    "collapsed": false,
    "nbpresent": {
     "id": "85999762-2b3c-4653-9792-2c13b6fb3767"
    }
   },
   "outputs": [
    {
     "data": {
      "text/plain": [
       "[<matplotlib.lines.Line2D at 0x1137b8358>]"
      ]
     },
     "execution_count": 76,
     "metadata": {},
     "output_type": "execute_result"
    },
    {
     "data": {
      "image/png": "[encoded data removed]",
      "text/plain": [
       "<matplotlib.figure.Figure at 0x11295df28>"
      ]
     },
     "metadata": {},
     "output_type": "display_data"
    }
   ],
   "source": [
    "ptimes = open(\"resultsP.txt\",\"r\")\n",
    "plt.figure(figsize=(7,7),dpi=600)\n",
    "plt.xlabel('length of list being sorted.')\n",
    "plt.ylabel('time in seconds.')\n",
    "plt.title(\"Merge sort:\", fontsize=16)\n",
    "plt.plot(list(range(1,10001)),list(map(float,filter(None,ptimes.read().split(\"\\n\")))))\n"
   ]
  },
  {
   "cell_type": "markdown",
   "metadata": {},
   "source": [
    "The growth of this algorithm is n log n and, therefore, runs in polynomial time. \n",
    "Given that, Merge Sort is an example that sorting is a P-class problem.\n",
    "\n",
    "In exploring a NP problems, I chose the Subset Sum Problem (Sipser page 291). Here is the source code for my solution:"
   ]
  },
  {
   "cell_type": "code",
   "execution_count": 77,
   "metadata": {
    "collapsed": false
   },
   "outputs": [],
   "source": [
    "\"\"\"\n",
    "subsetSum.py\n",
    "Logan Davis\n",
    "\n",
    "DESCRIPTION:\n",
    "    Finds a subset of a given set that sums to 0\n",
    "    example: \n",
    "        starting set = {1,3,6,5,-10}\n",
    "        solution subset = {1,3,6,-10}\n",
    "            because sum(subset) = 0\n",
    "            \n",
    "HOW TO USE:\n",
    "    run from the command line passing:\n",
    "    $ python subsetSum.py <a series of numbers seperated by spaces>\n",
    "    \n",
    "    Example:\n",
    "    $ python subsetSum.py 1 5 3 -10 7\n",
    "    0-Sum FOUND: [3,-10,7]\n",
    "    \n",
    "11/16/16 | Python 3.5 | MIT License\n",
    "\"\"\"\n",
    "import sys\n",
    "\n",
    "def _subsetSum(setRemaining, subset = []):\n",
    "    \"\"\"\n",
    "    recursively choses items from setRemaining\n",
    "    to consider in a sum of subset in hopes of\n",
    "    finding a 0-sum subset\n",
    "    \"\"\"\n",
    "    if (sum(subset) == 0) and (subset != []):\n",
    "        print(\"0-Sum FOUND: {}.\".format(subset))\n",
    "        quit()\n",
    "    elif (setRemaining != []):\n",
    "        for i in reversed(range(len(setRemaining))):\n",
    "            newSetRemaining = setRemaining[:i+1]\n",
    "            newSubset = subset[:]; newSubset.append(newSetRemaining.pop(i))\n",
    "            _subsetSum(newSetRemaining,newSubset)\n",
    "\n",
    "def findSubsetSum(setToTest):\n",
    "    \"\"\"\n",
    "    a wrapper to handle default input and exit conditions\n",
    "    of _subsetSum.\n",
    "    \n",
    "    If a 0-sum subset was found in setToTest,\n",
    "    _subset will handle notifying the user that a valid\n",
    "    subset was found. \n",
    "    \n",
    "    If no 0-sum subset is found, this wrapper will\n",
    "    handle notifying the user of such.\n",
    "    \"\"\"\n",
    "    _subsetSum(setToTest,[])\n",
    "    print(\"No 0-sum subsets were found.\")\n",
    "\n",
    "    \n",
    "# Following code handles CL input, commented out to keep from running\n",
    "\n",
    "#setToTest = []\n",
    "\n",
    "#for i in range(1,len(sys.argv)):\n",
    "#    setToTest.append(int(sys.argv[i]))\n",
    "#findSubsetSum(setToTest)\n"
   ]
  },
  {
   "cell_type": "markdown",
   "metadata": {},
   "source": [
    "The run-time testing of this function was similar in structure to that of the merge sort except for two things:\n",
    "\n",
    "* The list tested on was a worst case scenario, a set that in no way could have a 0-sum subset in it. The worst and average case for merge sort is n log n. I thought it only fair to ensure worst case performance to this algorithm (as to further underscore it's NPness in runtime).\n",
    "\n",
    "* Due to the growth in computational time, I was not able to test up to n=10000 like I did with Merge Sort. After 9 hours of running, subsetSum was only able to get to n=31. Though a small set, I feel it gets the point across.\n",
    "\n",
    "Here is the code for the test:"
   ]
  },
  {
   "cell_type": "code",
   "execution_count": 78,
   "metadata": {
    "collapsed": true
   },
   "outputs": [],
   "source": [
    "import subprocess, time, random\n",
    "\n",
    "def timeFunction(n,repeats,command):\n",
    "    results = []\n",
    "    teststring = \"\"\n",
    "\n",
    "    f = open(\"results.txt\",\"w\")\n",
    "\n",
    "    for i in range(n):\n",
    "        teststring += str(random.randrange(0,10000)) + \" \"\n",
    "        times = []\n",
    "        print(\"Testing on string {}.\",list(filter(None,teststring.split(\" \"))))\n",
    "        for i in range(repeats):\n",
    "            startTime = time.time()\n",
    "            subprocess.call(command.split(\" \")+list(filter(None, teststring.split(\" \"))))\n",
    "            times.append(time.time() - startTime)\n",
    "        average = sum(times)/repeats\n",
    "        results.append(str(average) + \"\\n\")\n",
    "        f.write(str(results[-1]))\n",
    "    f.close()\n",
    "\n",
    "#timeFunction(40,5,\"python subsetSum.py\") #uncomment if you want to run the test."
   ]
  },
  {
   "cell_type": "markdown",
   "metadata": {},
   "source": [
    "The results of the 31 tests are as follows:"
   ]
  },
  {
   "cell_type": "code",
   "execution_count": 79,
   "metadata": {
    "collapsed": false
   },
   "outputs": [
    {
     "data": {
      "text/plain": [
       "[<matplotlib.lines.Line2D at 0x11312cc88>]"
      ]
     },
     "execution_count": 79,
     "metadata": {},
     "output_type": "execute_result"
    },
    {
     "data": {
      "image/png": "[encoded data removed]",
      "text/plain": [
       "<matplotlib.figure.Figure at 0x1137af128>"
      ]
     },
     "metadata": {},
     "output_type": "display_data"
    }
   ],
   "source": [
    "npTimes = open(\"resultsNP.txt\",\"r\")\n",
    "plt.figure(figsize=(7,7),dpi=600)\n",
    "plt.xlabel('length of set being checked.')\n",
    "plt.ylabel('time in seconds.')\n",
    "plt.title(\"Subset Sum Runtime\", fontsize=16)\n",
    "plt.plot(list(range(1,32)),list(map(float,filter(None,npTimes.read().split(\"\\n\")))))\n"
   ]
  },
  {
   "cell_type": "markdown",
   "metadata": {},
   "source": [
    "Trying to create a polynomial verifier (some program that can tell if, not find, a NP solution is correct in polynomial time) is very straightforward for this problem. Here is the source code:"
   ]
  },
  {
   "cell_type": "code",
   "execution_count": 80,
   "metadata": {
    "collapsed": true
   },
   "outputs": [],
   "source": [
    "\"\"\"\n",
    "polynomialVerifier.py\n",
    "Logan Davis\n",
    "\n",
    "DESCRIPTION:\n",
    "    Verifies whether a set sums to 0.\n",
    "11/16/16 | Python 3.5 | MIT License\n",
    "\"\"\"\n",
    "\n",
    "def zeroSumVerifier(zeroSumCandidate):\n",
    "    \"\"\"\n",
    "    returns True if list zeroSumCandidate\n",
    "    sums to 0 and the list is not empty.\n",
    "\n",
    "    else, returns False (sums to some \n",
    "    non-zero value).\n",
    "    \"\"\"\n",
    "    sumOfList = 0\n",
    "    if zeroSumCandidate == []:\n",
    "        return False\n",
    "    for i in zeroSumCandidate:\n",
    "        sumOfList += i\n",
    "\n",
    "    if sumOfList == 0:\n",
    "        return True\n",
    "    else:\n",
    "        return False"
   ]
  },
  {
   "cell_type": "markdown",
   "metadata": {},
   "source": [
    "Again, a similar test was used to catalog time. This time I generate correct values in an attempt to cheer myself up given that testing for expected correctness in more optimistic than the opposite. The values actually computed by the Subset Sum finder where far too few to use, given how fast the verifier is. So all tested sets where generated programmatically from 0 to 20000 (stepping by 2 in length, as to still sum to 0):"
   ]
  },
  {
   "cell_type": "code",
   "execution_count": 81,
   "metadata": {
    "collapsed": true
   },
   "outputs": [],
   "source": [
    "def timeFunction(n,repeats):\n",
    "    results = \"\"\n",
    "    testSolution = []\n",
    "\n",
    "    for i in range(n):\n",
    "        testSolution += [5,-5]\n",
    "        times = []\n",
    "        for i in range(repeats):\n",
    "            startTime = time.time()\n",
    "            zeroSumVerifier(testSolution)\n",
    "            times.append(time.time() - startTime)\n",
    "        average = sum(times)/repeats\n",
    "        results += str(average) + \"\\n\"\n",
    "    \n",
    "    f = open(\"resultsNPverifier.txt\",\"w\")\n",
    "    f.write(results)\n",
    "    f.close()\n",
    "\n",
    "timeFunction(10000,5)"
   ]
  },
  {
   "cell_type": "markdown",
   "metadata": {},
   "source": [
    "Something to keep in mind is that at these speed, system overhead has very noticable effect on repeated tests. The majority of points lay on a linear line and in the code for the function, it is obvious that in only goes through the length on the set once. Here is the time graph:"
   ]
  },
  {
   "cell_type": "code",
   "execution_count": 83,
   "metadata": {
    "collapsed": false
   },
   "outputs": [
    {
     "data": {
      "text/plain": [
       "[<matplotlib.lines.Line2D at 0x1154cf780>]"
      ]
     },
     "execution_count": 83,
     "metadata": {},
     "output_type": "execute_result"
    },
    {
     "data": {
      "image/png": "[encoded data removed]",
      "text/plain": [
       "<matplotlib.figure.Figure at 0x1135dc630>"
      ]
     },
     "metadata": {},
     "output_type": "display_data"
    }
   ],
   "source": [
    "pverifyTimes = open(\"resultsNPverifier.txt\",\"r\")\n",
    "plt.figure(figsize=(7,7),dpi=600)\n",
    "plt.xlabel('length of set being checked.')\n",
    "plt.ylabel('time in seconds.')\n",
    "plt.title(\"Subset Sum Runtime\", fontsize=16) \n",
    "plt.plot(list(range(1,20001,2)),list(map(float,filter(None,pverifyTimes.read().split(\"\\n\")))))"
   ]
  }
 ],
 "metadata": {
  "celltoolbar": "Raw Cell Format",
  "kernelspec": {
   "display_name": "Python [default]",
   "language": "python",
   "name": "python3"
  },
  "language_info": {
   "codemirror_mode": {
    "name": "ipython",
    "version": 3
   },
   "file_extension": ".py",
   "mimetype": "text/x-python",
   "name": "python",
   "nbconvert_exporter": "python",
   "pygments_lexer": "ipython3",
   "version": "3.5.2"
  },
  "nbpresent": {
   "slides": {
    "19e847c1-53f7-432f-b0a5-e940a279147c": {
     "id": "19e847c1-53f7-432f-b0a5-e940a279147c",
     "prev": "e742b1fe-1e11-40b6-b196-fea288119ba2",
     "regions": {
      "45c2cf92-4c4e-4f72-88f6-4cf68d62ead4": {
       "attrs": {
        "height": 0.8,
        "width": 0.8,
        "x": 0.1,
        "y": 0.1
       },
       "content": {
        "cell": "baa396ee-2e09-4b9e-9266-22bfb79a1113",
        "part": "whole"
       },
       "id": "45c2cf92-4c4e-4f72-88f6-4cf68d62ead4"
      }
     }
    },
    "7b5ed030-c7cf-49fe-8d19-289c0255f225": {
     "id": "7b5ed030-c7cf-49fe-8d19-289c0255f225",
     "prev": "e9002387-5a59-4ccb-9575-13f9d94b1bac",
     "regions": {
      "739e8253-76e2-4e8a-acf8-a74ee57eb960": {
       "attrs": {
        "height": 0.8,
        "width": 0.8,
        "x": 0.1,
        "y": 0.1
       },
       "content": {
        "cell": "e49476f3-0cf8-4804-89d3-5f24f1983746",
        "part": "whole"
       },
       "id": "739e8253-76e2-4e8a-acf8-a74ee57eb960"
      }
     }
    },
    "969e36fa-2dbc-4d36-a6a2-4150e8495e24": {
     "id": "969e36fa-2dbc-4d36-a6a2-4150e8495e24",
     "prev": "19e847c1-53f7-432f-b0a5-e940a279147c",
     "regions": {
      "b4b8de9c-e29e-4848-ac71-4537c607eeab": {
       "attrs": {
        "height": 0.8,
        "width": 0.8,
        "x": 0.1,
        "y": 0.1
       },
       "content": {
        "cell": "0a31fca8-f040-4e42-a4b7-2c23ce448ffb",
        "part": "whole"
       },
       "id": "b4b8de9c-e29e-4848-ac71-4537c607eeab"
      }
     }
    },
    "c4a064e5-4032-4264-a9e2-33972f254b43": {
     "id": "c4a064e5-4032-4264-a9e2-33972f254b43",
     "prev": "7b5ed030-c7cf-49fe-8d19-289c0255f225",
     "regions": {
      "48c0d61a-9746-4f04-bc3a-3795bc92cac8": {
       "attrs": {
        "height": 0.8,
        "width": 0.8,
        "x": 0.1,
        "y": 0.1
       },
       "content": {
        "cell": "85999762-2b3c-4653-9792-2c13b6fb3767",
        "part": "whole"
       },
       "id": "48c0d61a-9746-4f04-bc3a-3795bc92cac8"
      }
     }
    },
    "e742b1fe-1e11-40b6-b196-fea288119ba2": {
     "id": "e742b1fe-1e11-40b6-b196-fea288119ba2",
     "prev": null,
     "regions": {
      "36782999-52e1-42a3-9fe4-39add9c58097": {
       "attrs": {
        "height": 0.8,
        "width": 0.8,
        "x": 0.1,
        "y": 0.1
       },
       "content": {
        "cell": "c2a73f1a-6901-4ccd-b3b1-db7662d47f63",
        "part": "whole"
       },
       "id": "36782999-52e1-42a3-9fe4-39add9c58097"
      }
     }
    },
    "e9002387-5a59-4ccb-9575-13f9d94b1bac": {
     "id": "e9002387-5a59-4ccb-9575-13f9d94b1bac",
     "prev": "969e36fa-2dbc-4d36-a6a2-4150e8495e24",
     "regions": {
      "f0ccdae1-5624-458d-95a0-4779523f5916": {
       "attrs": {
        "height": 0.8,
        "width": 0.8,
        "x": 0.1,
        "y": 0.1
       },
       "content": {
        "cell": "5ee72619-6ce0-4a23-9405-21b579955aea",
        "part": "whole"
       },
       "id": "f0ccdae1-5624-458d-95a0-4779523f5916"
      }
     }
    }
   },
   "themes": {
    "default": "ca8a6e0c-3251-4947-87bb-e5004f3c3e5a",
    "theme": {}
   }
  }
 },
 "nbformat": 4,
 "nbformat_minor": 1
}
